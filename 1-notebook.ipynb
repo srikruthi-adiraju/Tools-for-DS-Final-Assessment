{
 "cells": [
  {
   "cell_type": "markdown",
   "id": "e3e25757-c096-43e5-8a90-6b5f575340d4",
   "metadata": {},
   "source": [
    "Working with Jupyter and GitHub"
   ]
  },
  {
   "cell_type": "markdown",
   "id": "d6b267c6-662a-49eb-97c0-6422fdefbe9d",
   "metadata": {},
   "source": [
    "Introductory:\n",
    "In this notebook ..."
   ]
  },
  {
   "cell_type": "markdown",
   "id": "7451ab8d-3f14-4c57-b8ac-d809857eaaf7",
   "metadata": {},
   "source": [
    "Introduction to Data Science Languages\n",
    "\n",
    "The following are some of the languages used in Data Science\n",
    "1. Python\n",
    "2. R\n",
    "3. Java Script\n",
    "4. Julia\n",
    "5. Scala\n",
    "6. Java\n",
    "7. Go"
   ]
  },
  {
   "cell_type": "markdown",
   "id": "1bf67e3d-8aee-4583-8204-c8a98d14138e",
   "metadata": {},
   "source": [
    "Introduction to Data Science Libraries\n",
    "\n",
    "The following are some of the libraries used in Data Science\n",
    "1. Numpy\n",
    "2. Keras\n",
    "3. Pandas\n",
    "4. PyTorch\n",
    "5. SciPy\n",
    "6. Scikit-Learn\n",
    "7. TensorFlow\n",
    "8. Matplotlib"
   ]
  },
  {
   "cell_type": "markdown",
   "id": "3979fca9-fddb-4196-a34e-2bf27f4cd9a6",
   "metadata": {},
   "source": [
    "| Data Science Tools |\n",
    "| --- | \n",
    "| RapidMiner |\n",
    "| SQL | \n",
    "| Excel |\n",
    "| TensorFlow |\n",
    "| Tableau |\n",
    "| MATLAB |\n",
    "| Apache Hadoop |\n",
    "| KNIME |"
   ]
  },
  {
   "cell_type": "markdown",
   "id": "90dcd4dd-b5ea-48a9-8f31-b01a79194e77",
   "metadata": {},
   "source": [
    "# Arithmetic Expressions\n",
    "Arithmetic expressions are used as operands of certain conditional and arithmetic statements. An arithmetic expression can consist of any of the following items: An identifier described as a numeric elementary item (including numeric functions) A numeric literal. "
   ]
  },
  {
   "cell_type": "code",
   "execution_count": 1,
   "id": "0d06a00c-d360-41b5-a7d6-54eb97589786",
   "metadata": {
    "tags": []
   },
   "outputs": [
    {
     "name": "stdout",
     "output_type": "stream",
     "text": [
      "200\n",
      "70\n"
     ]
    }
   ],
   "source": [
    "# Multiply numbers\n",
    "m1 = 10\n",
    "m2 = 20\n",
    "print(m1*m2)\n",
    "\n",
    "# Add numbers\n",
    "a1 = 30\n",
    "a2 = 40\n",
    "print(a1+a2)"
   ]
  },
  {
   "cell_type": "code",
   "execution_count": 3,
   "id": "d5e345a3-642f-419b-a1be-835e703b5487",
   "metadata": {
    "tags": []
   },
   "outputs": [
    {
     "name": "stdout",
     "output_type": "stream",
     "text": [
      "2:10\n"
     ]
    }
   ],
   "source": [
    "# Program to convert minutes to hours\n",
    "\n",
    "no_of_minutes = 130\n",
    "\n",
    "# Get hours with int division\n",
    "hours = no_of_minutes // 60\n",
    "\n",
    "# Get additional minutes with modulus\n",
    "minutes = no_of_minutes % 60\n",
    "\n",
    "# Display output\n",
    "time = \"{}:{}\".format(hours, minutes)\n",
    "\n",
    "print(time)"
   ]
  },
  {
   "cell_type": "markdown",
   "id": "37daed37-5fc7-4a01-bb96-44ebbcbe2dff",
   "metadata": {},
   "source": [
    "## Objectives\n",
    "In this notebook, I performed\n",
    "- Creating markdown cells\n",
    "- Creating ordered lists\n",
    "- Creating table\n",
    "- Using arithmetic expressions\n",
    "- Program to convert minutes to hours\n",
    "- Creating unordered lists"
   ]
  },
  {
   "cell_type": "markdown",
   "id": "f7f91971-c85a-4024-abe2-717bb56150ff",
   "metadata": {},
   "source": [
    "## Author's details\n",
    "Srikruthi Adiraju\n",
    "\n",
    "Computer Science and Engineeering Graduate"
   ]
  },
  {
   "cell_type": "code",
   "execution_count": null,
   "id": "58199a26-63b2-4938-9fe1-439b2d93b86c",
   "metadata": {},
   "outputs": [],
   "source": []
  }
 ],
 "metadata": {
  "kernelspec": {
   "display_name": "Python",
   "language": "python",
   "name": "conda-env-python-py"
  },
  "language_info": {
   "codemirror_mode": {
    "name": "ipython",
    "version": 3
   },
   "file_extension": ".py",
   "mimetype": "text/x-python",
   "name": "python",
   "nbconvert_exporter": "python",
   "pygments_lexer": "ipython3",
   "version": "3.7.12"
  }
 },
 "nbformat": 4,
 "nbformat_minor": 5
}
